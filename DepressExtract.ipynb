{
 "cells": [
  {
   "cell_type": "code",
   "execution_count": 27,
   "metadata": {},
   "outputs": [],
   "source": [
    "#Run 1st\n",
    "#import libaries\n",
    "#import libaries\n",
    "import requests\n",
    "import pandas as pd\n",
    "import time\n",
    "import psycopg2 as ps\n",
    "from sodapy import Socrata"
   ]
  },
  {
   "cell_type": "code",
   "execution_count": 28,
   "metadata": {},
   "outputs": [
    {
     "name": "stderr",
     "output_type": "stream",
     "text": [
     ]
    }
   ],
   "source": [
    "#Run 2nd\n",
    "client = Socrata(\"data.cdc.gov\", None)\n",
    "\n",
    "results = client.get(\"8pt5-q6wp\", limit=20000)\n",
    "\n",
    "# Convert to pandas DataFrame\n",
    "results_df = pd.DataFrame.from_records(results)"
   ]
  },
  {
   "cell_type": "code",
   "execution_count": null,
   "metadata": {},
   "outputs": [],
   "source": [
    "#Now its time to Connect to our database"
   ]
  },
  {
   "cell_type": "code",
   "execution_count": 29,
   "metadata": {},
   "outputs": [],
   "source": [
    "def connect_to_db(host_name, dbname, port, username, password):\n",
    "#We will use the connect method from the ps module to connect to our database\n",
    "    try:\n",
    "        conn = ps.connect(host = host_name, database = dbname, user = username, password = password, port = port)\n",
    "    except ps.OperationalError as e:\n",
    "        raise e\n",
    "    else: \n",
    "        print('Connected!')\n",
    "    return conn"
   ]
  },
  {
   "cell_type": "code",
   "execution_count": null,
   "metadata": {},
   "outputs": [],
   "source": [
    "#Checks to ensure we are connected, none indicates we are not\n",
    "print(type(conn))\n"
   ]
  },
  {
   "cell_type": "code",
   "execution_count": null,
   "metadata": {},
   "outputs": [],
   "source": [
    "#Create table\n",
    "\n",
    "def create_table(curr):\n",
    "    create_table_command = \"\"\"CREATE TABLE IF NOT EXISTS depress (\n",
    "        indicator VARCHAR(255),\n",
    "        \"group\" VARCHAR(50),\n",
    "        state VARCHAR(50),\n",
    "        subgroup VARCHAR(50),\n",
    "        phase VARCHAR(50),  -- Adjusted to VARCHAR\n",
    "        time_period VARCHAR(50),\n",
    "        time_period_label VARCHAR(100),\n",
    "        time_period_start_date DATE,\n",
    "        time_period_end_date DATE,\n",
    "        value FLOAT,\n",
    "        lowci FLOAT,\n",
    "        highci FLOAT,\n",
    "        confidence_interval VARCHAR(40),\n",
    "        quartile_range VARCHAR(40)\n",
    "    )\"\"\"\n",
    "    curr.execute(create_table_command)\n",
    "\n"
   ]
  },
  {
   "cell_type": "code",
   "execution_count": null,
   "metadata": {},
   "outputs": [],
   "source": [
    "#alter table, add column\n",
    "alter_table_command = \"\"\"ALTER TABLE depress ADD COLUMN id SERIAL PRIMARY KEY\"\"\"\n",
    "curr.execute(alter_table_command)"
   ]
  },
  {
   "cell_type": "code",
   "execution_count": 22,
   "metadata": {},
   "outputs": [],
   "source": [
    "def add_id_column(curr):\n",
    "    # Create a temporary table with the desired column order\n",
    "    create_temp_table_command = \"\"\"CREATE TABLE temp_depress (\n",
    "        id SERIAL PRIMARY KEY,\n",
    "        indicator VARCHAR(255),\n",
    "        \"group\" VARCHAR(50),\n",
    "        state VARCHAR(50),\n",
    "        subgroup VARCHAR(50),\n",
    "        phase VARCHAR(50),\n",
    "        time_period VARCHAR(50),\n",
    "        time_period_label VARCHAR(100),\n",
    "        time_period_start_date DATE,\n",
    "        time_period_end_date DATE,\n",
    "        value FLOAT,\n",
    "        lowci FLOAT,\n",
    "        highci FLOAT,\n",
    "        confidence_interval VARCHAR(40),\n",
    "        quartile_range VARCHAR(40)\n",
    "    )\"\"\"\n",
    "    curr.execute(create_temp_table_command)\n",
    "\n",
    "    # Copy data from the existing table to the temporary table\n",
    "    copy_data_command = \"INSERT INTO temp_depress (id, indicator, \\\"group\\\", state, subgroup, phase, time_period, time_period_label, time_period_start_date, time_period_end_date, value, lowci, highci, confidence_interval, quartile_range) SELECT id::INTEGER, indicator, \\\"group\\\", state, subgroup, phase, time_period, time_period_label, time_period_start_date, time_period_end_date, value, lowci, highci, confidence_interval, quartile_range FROM depress\"\n",
    "    curr.execute(copy_data_command)\n",
    "\n",
    "    # Drop the existing table\n",
    "    drop_table_command = \"DROP TABLE depress\"\n",
    "    curr.execute(drop_table_command)\n",
    "\n",
    "    # Rename the temporary table to the original table name\n",
    "    rename_table_command = \"ALTER TABLE temp_depress RENAME TO depress\"\n",
    "    curr.execute(rename_table_command)\n"
   ]
  },
  {
   "cell_type": "code",
   "execution_count": null,
   "metadata": {},
   "outputs": [],
   "source": [
    "data = results_df.values.tolist()\n",
    "\n",
    "def insert_data(curr, data):\n",
    "    insert_command = \"\"\"\n",
    "    INSERT INTO depress (\n",
    "        indicator, \"group\", state, subgroup, phase, time_period,\n",
    "        time_period_label, time_period_start_date, time_period_end_date,\n",
    "        value, lowci, highci, confidence_interval, quartile_range\n",
    "    ) VALUES (%s, %s, %s, %s, %s, %s, %s, %s, %s, %s, %s, %s, %s, %s)\n",
    "    \"\"\"\n",
    "    curr.executemany(insert_command, data)"
   ]
  },
  {
   "cell_type": "code",
   "execution_count": null,
   "metadata": {},
   "outputs": [],
   "source": [
    "#Use to see all columns in dataframe\n",
    "print(results_df.columns)\n"
   ]
  },
  {
   "cell_type": "code",
   "execution_count": 30,
   "metadata": {},
   "outputs": [
    {
     "name": "stdout",
     "output_type": "stream",
     "text": [
      "Connected!\n"
     ]
    }
   ],
   "source": [
    "host_name = 'localhost'\n",
    "dbname = 'Healthcare'\n",
    "port = xxxx\n",
    "username = 'postgres'\n",
    "password = 'xxxx'\n",
    "conn = None\n",
    "\n",
    "conn = connect_to_db(host_name, dbname, port, username, password)"
   ]
  },
  {
   "cell_type": "code",
   "execution_count": 71,
   "metadata": {},
   "outputs": [],
   "source": [
    "#update NaN in table\n",
    "def update_table(curr):\n",
    "    try:\n",
    "        # Update the NaN values and non-numeric values in the quartile_range column\n",
    "        update_quartile_range_command = \"\"\"UPDATE depress\n",
    "            SET quartile_range = 'N/A'\n",
    "            WHERE quartile_range = 'NaN' OR quartile_range ~ '[^0-9.]'\"\"\"\n",
    "        curr.execute(update_quartile_range_command)\n",
    "\n",
    "        # Update the NaN values in the value, lowci, highci, and confidence_interval columns\n",
    "        update_nan_values_command = \"\"\"UPDATE depress\n",
    "            SET value = NULL\n",
    "            WHERE value = 'NaN';\n",
    "            \n",
    "            UPDATE depress\n",
    "            SET lowci = NULL\n",
    "            WHERE lowci = 'NaN';\n",
    "            \n",
    "            UPDATE depress\n",
    "            SET highci = NULL\n",
    "            WHERE highci = 'NaN';\n",
    "            \n",
    "            UPDATE depress\n",
    "            SET confidence_interval = NULL\n",
    "            WHERE confidence_interval = 'NaN';\"\"\"\n",
    "        curr.execute(update_nan_values_command)\n",
    "\n",
    "        # Commit the changes\n",
    "        curr.execute(\"COMMIT\")\n",
    "        print(\"Table updated successfully.\")\n",
    "    except Exception as e:\n",
    "        # Rollback the transaction if an error occurs\n",
    "        curr.execute(\"ROLLBACK\")\n",
    "        raise e\n"
   ]
  },
  {
   "cell_type": "code",
   "execution_count": 73,
   "metadata": {},
   "outputs": [
    {
     "name": "stdout",
     "output_type": "stream",
     "text": [
      "Table updated successfully.\n"
     ]
    }
   ],
   "source": [
    "update_table(curr)"
   ]
  },
  {
   "cell_type": "code",
   "execution_count": 43,
   "metadata": {},
   "outputs": [],
   "source": [
    "#allows you to run sql commands\n",
    "curr = conn.cursor()"
   ]
  },
  {
   "cell_type": "code",
   "execution_count": null,
   "metadata": {},
   "outputs": [],
   "source": [
    "create_table(curr)"
   ]
  },
  {
   "cell_type": "code",
   "execution_count": null,
   "metadata": {},
   "outputs": [],
   "source": [
    "# Insert the data into the table\n",
    "insert_data(curr, data)"
   ]
  },
  {
   "cell_type": "code",
   "execution_count": 24,
   "metadata": {},
   "outputs": [],
   "source": [
    "#add column\n",
    "add_id_column(curr)"
   ]
  },
  {
   "cell_type": "code",
   "execution_count": 74,
   "metadata": {},
   "outputs": [],
   "source": [
    "#After est a connection and create table, need to commit to have changes go into db\n",
    "conn.commit()"
   ]
  },
  {
   "cell_type": "code",
   "execution_count": 26,
   "metadata": {},
   "outputs": [],
   "source": [
    "conn.close()"
   ]
  }
 ],
 "metadata": {
  "kernelspec": {
   "display_name": "Python 3",
   "language": "python",
   "name": "python3"
  },
  "language_info": {
   "codemirror_mode": {
    "name": "ipython",
    "version": 3
   },
   "file_extension": ".py",
   "mimetype": "text/x-python",
   "name": "python",
   "nbconvert_exporter": "python",
   "pygments_lexer": "ipython3",
   "version": "3.11.3"
  },
  "orig_nbformat": 4
 },
 "nbformat": 4,
 "nbformat_minor": 2
}
